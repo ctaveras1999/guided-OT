{
 "cells": [
  {
   "cell_type": "markdown",
   "metadata": {},
   "source": [
    "# Rollout after meeting with Santiago\n",
    "\n",
    "Running rollout on original augmented dijkstra algorithm where we compare \n",
    "partial paths against the entire reference path"
   ]
  },
  {
   "cell_type": "code",
   "execution_count": 1,
   "metadata": {},
   "outputs": [],
   "source": [
    "import numpy as np\n",
    "import matplotlib.pyplot as plt\n",
    "from util.alg_perf import *\n",
    "from util.guided_ot import *"
   ]
  },
  {
   "cell_type": "code",
   "execution_count": 2,
   "metadata": {},
   "outputs": [],
   "source": [
    "def rollout(SC, start, end, ref_path, alpha):\n",
    "    vk = start\n",
    "    path = [start]\n",
    "\n",
    "    k = 0 \n",
    "    while vk != end:\n",
    "        if vk == start:\n",
    "            p_ref = ref_path\n",
    "        else:\n",
    "            p_ref_nodes = path[::-1][:-1] + ref_path.nodes\n",
    "            p_ref = Trajectory(SC, p_ref_nodes, 0)\n",
    "\n",
    "        ref_class = Trajectory_Class(SC)\n",
    "        ref_class.add_path(p_ref)\n",
    "\n",
    "        pk = accumulated_proj_diff_dijkstra(SC, vk, end, p_ref, alpha, 0, False)\n",
    "        vk = pk.nodes[1]\n",
    "        path = path + [vk]\n",
    "        dijkstra_tree(SC, pk, [pk], ref_class)\n",
    "        k +=1\n",
    "        \n",
    "    print(path)\n",
    "    \n",
    "    return Trajectory(SC, path, 0)"
   ]
  },
  {
   "cell_type": "code",
   "execution_count": null,
   "metadata": {},
   "outputs": [],
   "source": []
  },
  {
   "cell_type": "code",
   "execution_count": null,
   "metadata": {},
   "outputs": [],
   "source": []
  },
  {
   "cell_type": "code",
   "execution_count": null,
   "metadata": {},
   "outputs": [],
   "source": []
  },
  {
   "cell_type": "code",
   "execution_count": null,
   "metadata": {},
   "outputs": [],
   "source": []
  }
 ],
 "metadata": {
  "kernelspec": {
   "display_name": "ot-simp",
   "language": "python",
   "name": "python3"
  },
  "language_info": {
   "codemirror_mode": {
    "name": "ipython",
    "version": 3
   },
   "file_extension": ".py",
   "mimetype": "text/x-python",
   "name": "python",
   "nbconvert_exporter": "python",
   "pygments_lexer": "ipython3",
   "version": "3.9.16"
  },
  "orig_nbformat": 4
 },
 "nbformat": 4,
 "nbformat_minor": 2
}
