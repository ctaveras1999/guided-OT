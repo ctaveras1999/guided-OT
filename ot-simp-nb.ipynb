{
 "cells": [
  {
   "cell_type": "code",
   "execution_count": 1,
   "metadata": {},
   "outputs": [],
   "source": [
    "import numpy as np\n",
    "from scipy.spatial import Delaunay\n",
    "import matplotlib.pyplot as plt"
   ]
  },
  {
   "cell_type": "code",
   "execution_count": 2,
   "metadata": {},
   "outputs": [],
   "source": [
    "def generate_mesh(num_points):\n",
    "    pts = 2 * np.random.random((num_points, 2)) - 1\n",
    "    tri = Delaunay(pts)\n",
    "    return pts, tri\n",
    "\n",
    "def incidence_matrices(nodes, edges, faces):\n",
    "    num_nodes, num_edges, num_faces = len(nodes), len(edges), len(faces)\n",
    "    B0 = np.zeros((num_nodes, num_edges), dtype=np.double)\n",
    "    B1 = np.zeros((num_edges, num_faces), dtype=np.double)\n",
    "\n",
    "    for i, edge in enumerate(edges):\n",
    "        v1, v2 = edge\n",
    "        B0[v1, i] = -1\n",
    "        B0[v2, i] = 1\n",
    "\n",
    "    for i, face in enumerate(faces):\n",
    "        v1, v2, v3 = face\n",
    "        e1, e2, e3 = (v1, v2), (v1, v3), (v2, v3)\n",
    "        e1_idx, e2_idx, e3_idx = edges.index(e1), edges.index(e2), edges.index(e3)\n",
    "        B1[e1_idx, i] = 1\n",
    "        B1[e2_idx, i] = -1\n",
    "        B1[e3_idx, i] = 1\n",
    "\n",
    "    return B0, B1"
   ]
  },
  {
   "cell_type": "code",
   "execution_count": 3,
   "metadata": {},
   "outputs": [],
   "source": [
    "class SimplicialComplex:\n",
    "    def __init__(self, points, simplices):\n",
    "        edge_idx, edges  = {}, {}\n",
    "\n",
    "        simplices = [x for x in simplices if len(set(x)) == 3] # face has 3 distinct nodes\n",
    "        simplices = [tuple(sorted(x)) for x in simplices]      # sort node order \n",
    "\n",
    "        num_edge = 0\n",
    "        for face in simplices:\n",
    "            n1, n2, n3 = face\n",
    "            face_edges = [(n1, n2), (n1, n3), (n2, n3)]\n",
    "\n",
    "            for edge in face_edges:\n",
    "                if edge not in edges:\n",
    "                    edges[edge] = num_edge\n",
    "                    edge_idx[num_edge] = edge\n",
    "                    num_edge += 1\n",
    "\n",
    "        self.nodes = points\n",
    "        self.edges = [edge_idx[i] for i in range(num_edge)]\n",
    "        self.faces = simplices\n",
    "\n",
    "        self.num_nodes, self.num_edges, self.num_faces = len(points), num_edge, len(simplices)\n",
    "\n",
    "        self.node_vec = np.ones(self.num_nodes)\n",
    "        self.edge_vec = np.ones(self.num_edges)\n",
    "        self.face_vec = np.ones(self.num_faces)\n",
    "\n",
    "    def add_simplices(self, simplices):\n",
    "        \"\"\"\n",
    "        simplices: dictionary of simplices to be added.\n",
    "        dictionary keys can be 0, 1, and/or 2\n",
    "        e.g. simplicies[0] = [1, 3, 4] \n",
    "        (set containing 1st, 3rd and 4th node in mesh) \n",
    "\n",
    "        Want to add simplices in such a way that simplicial complex structure is \n",
    "        maintained. Therefore, if we add a face, we must ensure to add its \n",
    "        edges and nodes if they aren't already in the complex.\n",
    "        \"\"\"\n",
    "        simp_dict = {0:set(), 1:set(), 2:set()}\n",
    "        \n",
    "        simp_dict[2] = simp_dict[2].union(simplices[2])\n",
    "        for face in simplices[2]:\n",
    "            sorted_face = n1, n2, n3 = tuple(sorted(face))\n",
    "            face_idx = self.faces.index(sorted_face)\n",
    "            self.face_vec[face_idx] = 1\n",
    "            e1 = (n1, n2)\n",
    "            e2 = (n1, n3)\n",
    "            e3 = (n2, n3)\n",
    "\n",
    "            nodes_needed = set([n1, n2, n3])\n",
    "            edges_needed = set([e1, e2, e3])\n",
    "\n",
    "            simp_dict[0] = simp_dict[0].union(nodes_needed)\n",
    "            simp_dict[1] = simp_dict[1].union(edges_needed)\n",
    "\n",
    "        # Add edges\n",
    "        simp_dict[1].union(simplices[1])\n",
    "        for edge in simp_dict[1]:\n",
    "            edge_idx = self.edges.index(edge)\n",
    "            self.edge_vec[edge_idx] = 1\n",
    "            n1, n2 = edge\n",
    "\n",
    "            nodes_needed = set([n1, n2])\n",
    "            simp_dict[0].union(nodes_needed)\n",
    "        \n",
    "        # Add vertices\n",
    "        simp_dict[0].union(simplices[0])\n",
    "        for node in simp_dict[0]:\n",
    "            self.node_vec[node] = 1\n",
    "\n",
    "\n",
    "    def remove_simplices(self, simplices):\n",
    "        simp_dict = {0:set(), 1:set(), 2:set()}\n",
    "\n",
    "        simp_dict[0] = simp_dict[0].union(simplices[0])\n",
    "        simp_dict[1] = simp_dict[1].union(simplices[1])\n",
    "        simp_dict[2] = simp_dict[2].union(simplices[2])\n",
    "\n",
    "        for node in simp_dict[0]:\n",
    "            self.node_vec[node] = 0\n",
    "\n",
    "            for edge in self.edges:\n",
    "                if node in edge:\n",
    "                    simp_dict[1] = simp_dict[1].union(set([edge]))\n",
    "                \n",
    "            for face in self.faces:\n",
    "                if node in face:\n",
    "                    simp_dict[2] = simp_dict[2].union(set([face]))\n",
    "\n",
    "\n",
    "        for edge in simp_dict[1]:\n",
    "            edge_idx = self.edges.index(tuple(edge))\n",
    "            self.edge_vec[edge_idx] = 0\n",
    "\n",
    "            n1, n2 = edge\n",
    "            for face in self.faces:\n",
    "                if (n1 in face) and (n2 in face):\n",
    "                    simp_dict[2] = simp_dict[2].union(set([face]))\n",
    "\n",
    "            \n",
    "        for face in simp_dict[2]:\n",
    "            face_idx = self.faces.index(tuple(face))\n",
    "            self.face_vec[face_idx] = 0\n",
    "\n",
    "\n",
    "    def hodge_laplacian(self, k):\n",
    "        B0, B1 = incidence_matrices(self.nodes, self.edges, self.faces)\n",
    "        \n",
    "        for i in range(B0.shape[1]):\n",
    "            if self.edge_vec[i] == 0:\n",
    "                B0[:,i] = 0\n",
    "            \n",
    "        if k == 0:\n",
    "            L = B0 @ B0.T\n",
    "            return L\n",
    "\n",
    "        else:\n",
    "            for i in range(B1.shape[1]):\n",
    "                if self.face_vec[i] == 0:\n",
    "                    B1[:,i] = 0\n",
    "\n",
    "            for i in range(B1.shape[0]):\n",
    "                if self.edge_vec[i] == 0:\n",
    "                    B1[i,:] = 0\n",
    "\n",
    "            L = B0.T @ B0 + B1 @ B1.T \n",
    "\n",
    "        return L, B0, B1\n",
    "\n"
   ]
  },
  {
   "cell_type": "code",
   "execution_count": 4,
   "metadata": {},
   "outputs": [
    {
     "data": {
      "text/plain": [
       "array([1., 1., 1., 1., 1., 1., 1., 1., 1., 1., 1., 1., 1.])"
      ]
     },
     "execution_count": 4,
     "metadata": {},
     "output_type": "execute_result"
    }
   ],
   "source": [
    "pts = np.array([[0,2], [2,1], [0,0], [-2,1], [-2,-3], [0,-2], [2,-3]])\n",
    "\n",
    "tri = Delaunay(pts)\n",
    "\n",
    "s = SimplicialComplex(pts, tri.simplices)\n",
    "\n",
    "s\n",
    "s.edge_vec"
   ]
  },
  {
   "cell_type": "code",
   "execution_count": 5,
   "metadata": {},
   "outputs": [
    {
     "data": {
      "text/plain": [
       "array([1., 1., 1., 1., 1., 1., 1., 1., 1., 0., 1., 0., 0.])"
      ]
     },
     "execution_count": 5,
     "metadata": {},
     "output_type": "execute_result"
    }
   ],
   "source": [
    "s.remove_simplices({0:set(), 1:set([(3,5), (1,5), (1,6)]), 2:set( [ (0,1,2)] ) })\n",
    "s.edge_vec"
   ]
  },
  {
   "cell_type": "code",
   "execution_count": 6,
   "metadata": {},
   "outputs": [
    {
     "data": {
      "text/plain": [
       "array([[ 0.,  0.,  0., -1., -1.,  0., -1.,  0.,  0.,  0.,  0.,  0.,  0.],\n",
       "       [ 0.,  0.,  0.,  1.,  0., -1.,  0.,  0.,  0.,  0.,  0.,  0.,  0.],\n",
       "       [ 0.,  0.,  0.,  0.,  1.,  1.,  0., -1.,  0.,  0., -1.,  0.,  0.],\n",
       "       [ 0.,  0.,  0.,  0.,  0.,  0.,  1.,  1., -1.,  0.,  0.,  0.,  0.],\n",
       "       [-1., -1.,  0.,  0.,  0.,  0.,  0.,  0.,  1.,  0.,  0.,  0.,  0.],\n",
       "       [ 1.,  0., -1.,  0.,  0.,  0.,  0.,  0.,  0.,  0.,  1.,  0.,  0.],\n",
       "       [ 0.,  1.,  1.,  0.,  0.,  0.,  0.,  0.,  0.,  0.,  0.,  0.,  0.]])"
      ]
     },
     "execution_count": 6,
     "metadata": {},
     "output_type": "execute_result"
    }
   ],
   "source": [
    "L, B0, B1 = s.hodge_laplacian(1)\n",
    "B0"
   ]
  },
  {
   "cell_type": "code",
   "execution_count": 7,
   "metadata": {},
   "outputs": [
    {
     "data": {
      "text/plain": [
       "array([[ 3.,  0.,  0.,  0.,  0.,  0.,  0.,  0., -1.,  0.,  1.,  0.,  0.],\n",
       "       [ 0.,  3.,  0.,  0.,  0.,  0.,  0.,  0., -1.,  0.,  0.,  0.,  0.],\n",
       "       [ 0.,  0.,  3.,  0.,  0.,  0.,  0.,  0.,  0.,  0., -1.,  0.,  0.],\n",
       "       [ 0.,  0.,  0.,  2.,  1., -1.,  1.,  0.,  0.,  0.,  0.,  0.,  0.],\n",
       "       [ 0.,  0.,  0.,  1.,  3.,  1.,  0.,  0.,  0.,  0., -1.,  0.,  0.],\n",
       "       [ 0.,  0.,  0., -1.,  1.,  2.,  0., -1.,  0.,  0., -1.,  0.,  0.],\n",
       "       [ 0.,  0.,  0.,  1.,  0.,  0.,  3.,  0., -1.,  0.,  0.,  0.,  0.],\n",
       "       [ 0.,  0.,  0.,  0.,  0., -1.,  0.,  3., -1.,  0.,  1.,  0.,  0.],\n",
       "       [-1., -1.,  0.,  0.,  0.,  0., -1., -1.,  2.,  0.,  0.,  0.,  0.],\n",
       "       [ 0.,  0.,  0.,  0.,  0.,  0.,  0.,  0.,  0.,  0.,  0.,  0.,  0.],\n",
       "       [ 1.,  0., -1.,  0., -1., -1.,  0.,  1.,  0.,  0.,  2.,  0.,  0.],\n",
       "       [ 0.,  0.,  0.,  0.,  0.,  0.,  0.,  0.,  0.,  0.,  0.,  0.,  0.],\n",
       "       [ 0.,  0.,  0.,  0.,  0.,  0.,  0.,  0.,  0.,  0.,  0.,  0.,  0.]])"
      ]
     },
     "execution_count": 7,
     "metadata": {},
     "output_type": "execute_result"
    }
   ],
   "source": [
    "L"
   ]
  },
  {
   "cell_type": "code",
   "execution_count": 8,
   "metadata": {},
   "outputs": [
    {
     "name": "stdout",
     "output_type": "stream",
     "text": [
      "RESULTS:\n"
     ]
    },
    {
     "data": {
      "text/plain": [
       "array([[ 5.  ,  6.  ,  4.72, -0.05, -1.67,  3.  ],\n",
       "       [ 5.  ,  7.  ,  2.35, -0.02,  1.67,  4.  ],\n",
       "       [ 6.  ,  7.  , -2.36,  0.03, -1.67, -4.  ],\n",
       "       [ 1.  ,  2.  , -2.76, -1.24,  0.  , -4.  ],\n",
       "       [ 1.  ,  3.  , -0.52, -0.48, -1.  , -2.  ],\n",
       "       [ 2.  ,  3.  , -2.76,  0.76,  0.  , -2.  ],\n",
       "       [ 1.  ,  4.  ,  3.28, -0.28,  1.  ,  4.  ],\n",
       "       [ 3.  ,  4.  ,  3.8 ,  0.2 , -1.  ,  3.  ],\n",
       "       [ 4.  ,  5.  ,  7.08, -0.08,  0.  ,  7.  ],\n",
       "       [ 4.  ,  6.  ,  0.  ,  0.  ,  0.  ,  0.  ],\n",
       "       [ 3.  ,  6.  , -7.07,  0.07,  0.  , -7.  ],\n",
       "       [ 2.  ,  6.  ,  0.  ,  0.  ,  0.  ,  0.  ],\n",
       "       [ 2.  ,  7.  ,  0.  ,  0.  ,  0.  ,  0.  ]])"
      ]
     },
     "execution_count": 8,
     "metadata": {},
     "output_type": "execute_result"
    }
   ],
   "source": [
    "w, v = np.linalg.eigh(L)\n",
    "\n",
    "c = np.array([3, 4, -4, -4, -2, -2, 4, 3, 7, 0, -7, 0 , 0])\n",
    "\n",
    "edge_labels = s.edges + np.ones((13, 2))\n",
    "\n",
    "p = np.round(np.linalg.lstsq(B0.T, c, rcond=None)[0].T, 2)\n",
    "w = np.round(np.linalg.lstsq(B1, c, rcond=None)[0].T, 2)\n",
    "\n",
    "g = B0.T @ p\n",
    "r = B1 @ w\n",
    "\n",
    "h = c - g - r\n",
    "g.reshape(13,1)\n",
    "\n",
    "print(\"RESULTS:\")\n",
    "results = np.hstack([edge_labels, np.vstack([h,g,r]).T, c.reshape(13, 1)])\n",
    "results"
   ]
  },
  {
   "cell_type": "code",
   "execution_count": 9,
   "metadata": {},
   "outputs": [],
   "source": [
    "nodes = [0,1,2,3,4,5,6]\n",
    "edges = [(0,1), (0,2), (0,3), (1,2), (2,3), (2,5), (3,4), (4,5), (4,6), (5,6)]\n",
    "#edges = [(4,5), (4,6), (5,6), (0,1), (0,2), (1,2), (0,3), (2,3), (3,4), (2,5)]\n",
    "faces = [(0,2,3), (4,5,6)]\n",
    "#faces = [(4,5,6), (0,2,3)]\n",
    "\n",
    "B0_2, B1_2 = incidence_matrices(nodes, edges, faces)\n",
    "\n",
    "L2 = B0_2.T @ B0_2 + B1_2 @ B1_2.T"
   ]
  },
  {
   "cell_type": "code",
   "execution_count": 10,
   "metadata": {},
   "outputs": [
    {
     "name": "stdout",
     "output_type": "stream",
     "text": [
      "RESULTS:\n"
     ]
    },
    {
     "data": {
      "text/plain": [
       "array([[ 1.   ,  2.   , -2.759, -1.241,  0.   , -4.   ],\n",
       "       [ 1.   ,  3.   , -0.519, -0.481, -1.   , -2.   ],\n",
       "       [ 1.   ,  4.   ,  3.278, -0.278,  1.   ,  4.   ],\n",
       "       [ 2.   ,  3.   , -2.759,  0.759,  0.   , -2.   ],\n",
       "       [ 3.   ,  4.   ,  3.797,  0.203, -1.   ,  3.   ],\n",
       "       [ 3.   ,  6.   , -7.076,  0.076,  0.   , -7.   ],\n",
       "       [ 4.   ,  5.   ,  7.076, -0.076,  0.   ,  7.   ],\n",
       "       [ 5.   ,  6.   ,  4.717, -0.051, -1.667,  3.   ],\n",
       "       [ 5.   ,  7.   ,  2.359, -0.025,  1.667,  4.   ],\n",
       "       [ 6.   ,  7.   , -2.359,  0.025, -1.667, -4.   ]])"
      ]
     },
     "execution_count": 10,
     "metadata": {},
     "output_type": "execute_result"
    }
   ],
   "source": [
    "edge_labels = edges + np.ones((10, 2))\n",
    "\n",
    "c2 = np.array([-4, -2, 4, -2, 3, -7, 7, 3, 4, -4])\n",
    "\n",
    "p2 = np.linalg.lstsq(B0_2.T, c2, rcond=None)[0].T\n",
    "w2 = np.linalg.lstsq(B1_2, c2, rcond=None)[0].T\n",
    "\n",
    "g2 = B0_2.T @ p2\n",
    "r2 = B1_2 @ w2\n",
    "\n",
    "h2 = c2 - g2 - r2\n",
    "\n",
    "print(\"RESULTS:\")\n",
    "results = np.hstack([edge_labels, np.vstack([np.round(h2,3),np.round(g2,3),np.round(r2,3)]).T, c2.reshape(10, 1)])\n",
    "results"
   ]
  },
  {
   "cell_type": "code",
   "execution_count": 11,
   "metadata": {},
   "outputs": [
    {
     "data": {
      "text/plain": [
       "array([-0.,  0., -0.,  0., -0., -0.,  0., -0., -0., -0.])"
      ]
     },
     "execution_count": 11,
     "metadata": {},
     "output_type": "execute_result"
    }
   ],
   "source": [
    "np.round(L2 @ h2, 10)"
   ]
  },
  {
   "cell_type": "code",
   "execution_count": 12,
   "metadata": {},
   "outputs": [],
   "source": [
    "B0_gt = np.zeros((7,10))\n",
    "\n",
    "B0_gt[0,0] = -1\n",
    "B0_gt[1,0] = 1\n",
    "\n",
    "B0_gt[0,1] = -1\n",
    "B0_gt[2,1] = 1\n",
    "\n",
    "B0_gt[0,2] = -1\n",
    "B0_gt[3,2] = 1\n",
    "\n",
    "B0_gt[1,3] = -1\n",
    "B0_gt[2,3] = 1\n",
    "\n",
    "B0_gt[2,4] = -1\n",
    "B0_gt[3,4] = 1\n",
    "\n",
    "B0_gt[2,5] = -1\n",
    "B0_gt[5,5] = 1\n",
    "\n",
    "B0_gt[3,6] = -1\n",
    "B0_gt[4,6] = 1\n",
    "\n",
    "B0_gt[4,7] = -1\n",
    "B0_gt[5,7] = 1\n",
    "\n",
    "B0_gt[4,8] = -1\n",
    "B0_gt[6,8] = 1\n",
    "\n",
    "B0_gt[5,9] = -1\n",
    "B0_gt[6,9] = 1\n",
    "\n",
    "########\n",
    "# B1\n",
    "########\n",
    "\n",
    "\n",
    "B1_gt = np.zeros((10, 2))\n",
    "\n",
    "B1_gt[1,0] = 1\n",
    "B1_gt[2,0] = -1\n",
    "B1_gt[4,0] = 1\n",
    "\n",
    "B1_gt[7,1] = 1\n",
    "B1_gt[8,1] = -1\n",
    "B1_gt[9,1] = 1\n",
    "\n",
    "L_gt = B0_gt.T @ B0_gt + B1_gt @ B1_gt.T"
   ]
  },
  {
   "cell_type": "code",
   "execution_count": 13,
   "metadata": {},
   "outputs": [
    {
     "data": {
      "image/png": "[encoded data removed]",
      "text/plain": [
       "<Figure size 640x480 with 1 Axes>"
      ]
     },
     "metadata": {},
     "output_type": "display_data"
    }
   ],
   "source": [
    "plt.triplot(pts[:,0], pts[:,1], s.faces)\n",
    "plt.plot(pts[:,0], pts[:,1], 'o')\n",
    "plt.show()"
   ]
  },
  {
   "cell_type": "code",
   "execution_count": 29,
   "metadata": {},
   "outputs": [
    {
     "name": "stdout",
     "output_type": "stream",
     "text": [
      "(0, 1)\n",
      "(0, 4)\n",
      "(0, 2)\n",
      "(0, 5)\n",
      "(0, 7)\n"
     ]
    },
    {
     "data": {
      "image/png": "[encoded data removed]",
      "text/plain": [
       "<Figure size 640x480 with 1 Axes>"
      ]
     },
     "metadata": {},
     "output_type": "display_data"
    },
    {
     "data": {
      "text/plain": [
       "array([1., 1., 1., 0., 0., 1., 1., 1., 1., 1., 0., 0., 1., 1., 1., 0., 1.,\n",
       "       1., 1., 1., 1.])"
      ]
     },
     "execution_count": 29,
     "metadata": {},
     "output_type": "execute_result"
    }
   ],
   "source": [
    "points, tri = generate_mesh(10)\n",
    "a = SimplicialComplex(points, tri.simplices)\n",
    "a.remove_simplices({0:set([0]), 1:set(), 2:set()})\n",
    "\n",
    "for edge in a.edges:\n",
    "    if 0 in edge:\n",
    "        print(edge)\n",
    "\n",
    "simplices_on = [x for (i, x) in enumerate(tri.simplices) if a.face_vec[i]]\n",
    "\n",
    "L, B0, B1 = a.hodge_laplacian(1)\n",
    "\n",
    "w, v = np.linalg.eigh(L)\n",
    "\n",
    "plt.triplot(points[:,0], points[:,1], simplices_on)\n",
    "plt.plot(points[:,0], points[:,1], 'o')\n",
    "plt.show()\n",
    "\n",
    "a.edge_vec"
   ]
  },
  {
   "cell_type": "code",
   "execution_count": 30,
   "metadata": {},
   "outputs": [
    {
     "data": {
      "text/plain": [
       "array([-1.21981562e-16,  2.40588152e-16,  2.68233298e-16,  4.24558016e-16,\n",
       "        1.12786992e-15,  2.22486789e-15,  1.23139941e+00,  1.26794919e+00,\n",
       "        1.88986528e+00,  2.00000000e+00,  2.00000000e+00,  3.00000000e+00,\n",
       "        3.41505777e+00,  4.00000000e+00,  4.00000000e+00,  4.00000000e+00,\n",
       "        4.47532424e+00,  4.73205081e+00,  4.89926812e+00,  5.77519178e+00,\n",
       "        6.31389340e+00])"
      ]
     },
     "execution_count": 30,
     "metadata": {},
     "output_type": "execute_result"
    }
   ],
   "source": [
    "w"
   ]
  },
  {
   "cell_type": "code",
   "execution_count": 211,
   "metadata": {},
   "outputs": [],
   "source": [
    "n_edges = a.edge_vec.shape[0]\n",
    "k = 2\n",
    "l = 2\n",
    "ind1 = (a.edge_vec).reshape(n_edges, 1)\n",
    "ind2 = (1-a.edge_vec).reshape(n_edges, 1)\n",
    "\n",
    "res1 = v[:,l:l+k] * np.tile(ind1, (1, k))\n",
    "res1 = np.round(res1, 10)\n",
    "\n",
    "res2 = v[:,l:l+k] * np.tile(ind2, (1, k))\n",
    "res2 = np.round(res2, 10)"
   ]
  },
  {
   "cell_type": "code",
   "execution_count": 158,
   "metadata": {},
   "outputs": [
    {
     "data": {
      "text/plain": [
       "array([1., 1., 1., 1., 1., 1., 1., 1., 1., 1., 1., 1., 1., 1., 1., 1., 1.,\n",
       "       1., 1., 1., 1.])"
      ]
     },
     "execution_count": 158,
     "metadata": {},
     "output_type": "execute_result"
    }
   ],
   "source": []
  },
  {
   "cell_type": "code",
   "execution_count": 212,
   "metadata": {},
   "outputs": [
    {
     "data": {
      "text/plain": [
       "array([[  0.   ,   0.   ],\n",
       "       [  0.   ,  -0.   ],\n",
       "       [  0.   ,  -0.   ],\n",
       "       [ 99.123,  16.367],\n",
       "       [ -9.396,   6.032],\n",
       "       [ -0.   ,   0.   ],\n",
       "       [ -0.   ,   0.   ],\n",
       "       [ 76.214, -34.119],\n",
       "       [ 36.693,   0.164],\n",
       "       [ -0.   ,   0.   ],\n",
       "       [ 37.67 ,  27.337],\n",
       "       [ -0.   ,   0.   ],\n",
       "       [  0.   ,   0.   ],\n",
       "       [  0.   ,  -0.   ],\n",
       "       [  0.   ,  -0.   ],\n",
       "       [ -0.537,   0.207],\n",
       "       [  0.   ,  -0.   ],\n",
       "       [  0.   ,  -0.   ],\n",
       "       [ -0.   ,   0.   ],\n",
       "       [ -0.   ,   0.   ],\n",
       "       [  0.   ,  -0.   ]])"
      ]
     },
     "execution_count": 212,
     "metadata": {},
     "output_type": "execute_result"
    }
   ],
   "source": [
    "np.round(res2 / np.linalg.norm(res1, axis=0), 3)"
   ]
  },
  {
   "cell_type": "code",
   "execution_count": 217,
   "metadata": {},
   "outputs": [
    {
     "data": {
      "text/plain": [
       "array([[ 0.   ,  0.   ],\n",
       "       [ 0.289, -0.289],\n",
       "       [ 0.289, -0.289],\n",
       "       [ 0.   ,  0.   ],\n",
       "       [-0.   ,  0.   ],\n",
       "       [-0.289,  0.289],\n",
       "       [-0.289,  0.289],\n",
       "       [ 0.   , -0.   ],\n",
       "       [ 0.   ,  0.   ],\n",
       "       [-0.289,  0.289],\n",
       "       [ 0.   ,  0.   ],\n",
       "       [-0.289,  0.289],\n",
       "       [ 0.   ,  0.   ],\n",
       "       [ 0.289, -0.289],\n",
       "       [ 0.289, -0.289],\n",
       "       [-0.   ,  0.   ],\n",
       "       [ 0.289, -0.289],\n",
       "       [ 0.289, -0.289],\n",
       "       [-0.   ,  0.   ],\n",
       "       [-0.289,  0.289],\n",
       "       [ 0.289, -0.289]])"
      ]
     },
     "execution_count": 217,
     "metadata": {},
     "output_type": "execute_result"
    }
   ],
   "source": [
    "np.round(res1 / np.linalg.norm(res1, axis=0), 3)"
   ]
  },
  {
   "cell_type": "code",
   "execution_count": 149,
   "metadata": {},
   "outputs": [
    {
     "data": {
      "text/plain": [
       "array([-2.30687180e-15, -9.26171212e-16, -1.19417711e-16, -1.08548492e-17,\n",
       "        5.36233982e-16,  8.87561547e-16,  9.64963771e-16,  1.26794919e+00,\n",
       "        1.26794919e+00,  2.00000000e+00,  2.00000000e+00,  2.00000000e+00,\n",
       "        4.00000000e+00,  4.00000000e+00,  4.00000000e+00,  4.00000000e+00,\n",
       "        4.00000000e+00,  4.00000000e+00,  4.73205081e+00,  4.73205081e+00,\n",
       "        6.00000000e+00])"
      ]
     },
     "execution_count": 149,
     "metadata": {},
     "output_type": "execute_result"
    }
   ],
   "source": [
    "w"
   ]
  },
  {
   "cell_type": "code",
   "execution_count": null,
   "metadata": {},
   "outputs": [],
   "source": []
  },
  {
   "cell_type": "code",
   "execution_count": null,
   "metadata": {},
   "outputs": [],
   "source": []
  }
 ],
 "metadata": {
  "kernelspec": {
   "display_name": "Python 3.9.13 ('ot-simp')",
   "language": "python",
   "name": "python3"
  },
  "language_info": {
   "codemirror_mode": {
    "name": "ipython",
    "version": 3
   },
   "file_extension": ".py",
   "mimetype": "text/x-python",
   "name": "python",
   "nbconvert_exporter": "python",
   "pygments_lexer": "ipython3",
   "version": "3.9.16"
  },
  "orig_nbformat": 4,
  "vscode": {
   "interpreter": {
    "hash": "91dfaf0bad88270e7b4971167aa2981f215cfbe372c30d99fea01ff82dd600b2"
   }
  }
 },
 "nbformat": 4,
 "nbformat_minor": 2
}
